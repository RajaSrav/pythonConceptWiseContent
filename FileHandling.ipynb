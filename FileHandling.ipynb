{
 "cells": [
  {
   "cell_type": "markdown",
   "metadata": {},
   "source": [
    "# File Handling\n",
    "\n",
    "* It is a collection of data\n",
    "* It is store the data permenetly\n",
    "\n",
    "* Type of file:\n",
    "    * .csv\n",
    "    * .py\n",
    "    * .pdf\n",
    "    * .txt\n",
    "    * .img\n",
    "    * .html\n",
    "   \n",
    "## Procedure to work on files:\n",
    "    \n",
    "   * need to open a file\n",
    "   * based on requirement we can perform related action\n",
    "   * close file\n",
    "   \n",
    "#### file main modes \n",
    "\n",
    "   1. \"r\" - Read - Default value. Opens a file for reading, error if the file does not exist\n",
    "\n",
    "   2. \"a\" - Append - Opens a file for appending, creates the file if it does not exist\n",
    "\n",
    "   1. \"w\" - Write - Opens a file for writing, creates the file if it does not exist\n",
    "\n",
    "   2. \"x\" - Create - Creates the specified file, returns an error if the file exists\n",
    "\n",
    "   3. \"t\" - Text - Default value. Text mode\n",
    "\n",
    "   4. \"b\" - Binary - Binary mode (e.g. images)\n",
    "\n",
    "   5. “ r+ “, for both reading and writing\n",
    "   \n",
    "   ### Syntax\n",
    "   \n",
    "   ```   \n",
    "filepath = \"foldername/filename.txt\"\n",
    "with open (filepath, 'modes') as f:\n",
    "    f.write(\"good morning\")    \n",
    "   \n",
    "   ```\n",
    "   \n",
    "**or**\n",
    "\n",
    "``` \n",
    "with open (\"foldername/filename.txt\", 'modes') as f:\n",
    "    f.write(\"good morning\")\n",
    "    \n",
    "   \n",
    "```\n",
    "```\n",
    "f = open(\"fileame.txt\",\"modes\"\n",
    "f.write(\"good mng\")\n",
    "```"
   ]
  },
  {
   "cell_type": "code",
   "execution_count": 1,
   "metadata": {},
   "outputs": [],
   "source": [
    "f = open(\"sample.txt\",\"w\")\n",
    "f.write(\"Hai hello\")\n",
    "f.close()"
   ]
  },
  {
   "cell_type": "code",
   "execution_count": 4,
   "metadata": {},
   "outputs": [],
   "source": [
    "f = open(\"sample.txt\",\"w\")\n",
    "f.write(\"Hai CBIT\")\n",
    "f.write(\"\\nGood morning\")\n",
    "f.close()"
   ]
  },
  {
   "cell_type": "code",
   "execution_count": 7,
   "metadata": {},
   "outputs": [
    {
     "name": "stdout",
     "output_type": "stream",
     "text": [
      "Hai CBIT\n",
      "Good morning\n"
     ]
    }
   ],
   "source": [
    "f = open(\"sample.txt\",\"r\")\n",
    "print(f.read())\n",
    "f.close()"
   ]
  },
  {
   "cell_type": "code",
   "execution_count": 8,
   "metadata": {},
   "outputs": [
    {
     "name": "stdout",
     "output_type": "stream",
     "text": [
      "Hai CBIT\n",
      "\n"
     ]
    }
   ],
   "source": [
    "f = open(\"sample.txt\",\"r\")\n",
    "print(f.readline())\n",
    "f.close()"
   ]
  },
  {
   "cell_type": "code",
   "execution_count": 10,
   "metadata": {},
   "outputs": [
    {
     "name": "stdout",
     "output_type": "stream",
     "text": [
      "H\n"
     ]
    }
   ],
   "source": [
    "f = open(\"sample.txt\",\"r\")\n",
    "print(f.readline(1))\n",
    "f.close()"
   ]
  },
  {
   "cell_type": "code",
   "execution_count": 12,
   "metadata": {},
   "outputs": [
    {
     "name": "stdout",
     "output_type": "stream",
     "text": [
      "['Hai CBIT\\n', 'Good morning']\n"
     ]
    }
   ],
   "source": [
    "f = open(\"sample.txt\",\"r\")\n",
    "print(f.readlines())\n",
    "f.close()"
   ]
  },
  {
   "cell_type": "code",
   "execution_count": 13,
   "metadata": {},
   "outputs": [
    {
     "name": "stdout",
     "output_type": "stream",
     "text": [
      "['Hai CBIT\\n']\n"
     ]
    }
   ],
   "source": [
    "f = open(\"sample.txt\",\"r\")\n",
    "print(f.readlines(2))\n",
    "f.close()"
   ]
  },
  {
   "cell_type": "code",
   "execution_count": 16,
   "metadata": {},
   "outputs": [
    {
     "name": "stdout",
     "output_type": "stream",
     "text": [
      "True\n"
     ]
    }
   ],
   "source": [
    "f = open(\"sample.txt\",\"r\")\n",
    "print(f.readable())\n",
    "f.close()"
   ]
  },
  {
   "cell_type": "code",
   "execution_count": 23,
   "metadata": {},
   "outputs": [
    {
     "name": "stdout",
     "output_type": "stream",
     "text": [
      "True\n"
     ]
    }
   ],
   "source": [
    "f = open(\"nums.txt\",\"r\")\n",
    "print(f.readable())\n",
    "f.close()"
   ]
  },
  {
   "cell_type": "code",
   "execution_count": 31,
   "metadata": {},
   "outputs": [
    {
     "name": "stdout",
     "output_type": "stream",
     "text": [
      "Enter textladjfkhh\n"
     ]
    }
   ],
   "source": [
    "f = open(\"nums.txt\",\"a\")\n",
    "f.write(\"\\n\"+input(\"Enter text\"))\n",
    "f.close()"
   ]
  },
  {
   "cell_type": "code",
   "execution_count": 32,
   "metadata": {},
   "outputs": [
    {
     "name": "stdout",
     "output_type": "stream",
     "text": [
      "enter marks155\n",
      "Enter marks266\n",
      "Enter marks367\n",
      "enter marks134\n",
      "Enter marks256\n",
      "Enter marks378\n",
      "enter marks193\n",
      "Enter marks287\n",
      "Enter marks367\n",
      "enter marks188\n",
      "Enter marks293\n",
      "Enter marks367\n"
     ]
    }
   ],
   "source": [
    "\n",
    "m = open(\"raj.txt\",\"w\")\n",
    "m.write(\"marks1 \\tmarks2 \\tmarks3\")\n",
    "for i in range(1,5):\n",
    "    g=int(input(\"enter marks1\"))\n",
    "    t=int(input(\"Enter marks2\"))\n",
    "    l=int(input(\"Enter marks3\"))\n",
    "    m.write(\"\\n\"+str(g)+\"\\t\"+str(t)+\"\\t\"+str(l))\n",
    "    \n",
    "    \n",
    "m.close()"
   ]
  },
  {
   "cell_type": "code",
   "execution_count": 33,
   "metadata": {},
   "outputs": [
    {
     "name": "stdout",
     "output_type": "stream",
     "text": [
      "marks1 \tmarks2 \tmarks3\n",
      "55\t66\t67\n",
      "34\t56\t78\n",
      "93\t87\t67\n",
      "88\t93\t67\n"
     ]
    }
   ],
   "source": [
    "m = open(\"raj.txt\",\"r\")\n",
    "print(m.read())"
   ]
  },
  {
   "cell_type": "code",
   "execution_count": 35,
   "metadata": {},
   "outputs": [
    {
     "name": "stdout",
     "output_type": "stream",
     "text": [
      "marks1 \tmarks2 \tmarks3\n",
      "\n"
     ]
    }
   ],
   "source": [
    "m = open(\"raj.txt\",\"r\")\n",
    "print(m.readline())"
   ]
  },
  {
   "cell_type": "code",
   "execution_count": 37,
   "metadata": {},
   "outputs": [
    {
     "name": "stdout",
     "output_type": "stream",
     "text": [
      "['marks1 \\tmarks2 \\tmarks3\\n']\n"
     ]
    }
   ],
   "source": [
    "m = open(\"raj.txt\",\"r\")\n",
    "print(m.readlines(1))"
   ]
  },
  {
   "cell_type": "code",
   "execution_count": 57,
   "metadata": {},
   "outputs": [
    {
     "name": "stdout",
     "output_type": "stream",
     "text": [
      "0\n",
      "188\n",
      "168\n",
      "247\n",
      "248\n"
     ]
    }
   ],
   "source": [
    "m = open(\"raj.txt\",\"r\")\n",
    "r = m.readlines()\n",
    "for i in r:\n",
    "    s=0\n",
    "    for j in i.split():\n",
    "        if j.isdigit():\n",
    "            s += int(j)\n",
    "    print(s)"
   ]
  },
  {
   "cell_type": "code",
   "execution_count": null,
   "metadata": {},
   "outputs": [],
   "source": []
  }
 ],
 "metadata": {
  "kernelspec": {
   "display_name": "Python 3",
   "language": "python",
   "name": "python3"
  },
  "language_info": {
   "codemirror_mode": {
    "name": "ipython",
    "version": 3
   },
   "file_extension": ".py",
   "mimetype": "text/x-python",
   "name": "python",
   "nbconvert_exporter": "python",
   "pygments_lexer": "ipython3",
   "version": "3.7.4"
  }
 },
 "nbformat": 4,
 "nbformat_minor": 2
}
