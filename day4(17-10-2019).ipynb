{
 "cells": [
  {
   "cell_type": "markdown",
   "metadata": {},
   "source": [
    "### Day objectives\n",
    "- Dictionaries\n",
    "- Regular Expressions\n",
    "- packages and Modules\n",
    "- files"
   ]
  },
  {
   "cell_type": "code",
   "execution_count": null,
   "metadata": {},
   "outputs": [],
   "source": []
  },
  {
   "cell_type": "markdown",
   "metadata": {},
   "source": [
    "### Dictionaries\n",
    "- it is a data structure\n",
    "- it is a data type\n",
    "- in dict we can store data in pair formate i.e key and value\n",
    "    - keys max strings,keys are unique\n",
    "    - values may be string,integer,list,tuple,set,dict\n",
    "- for defined dcit we can use {}\n",
    "- for creating empty dict we have 2 ways\n",
    "    - d = {}\n",
    "    - d = dict()"
   ]
  },
  {
   "cell_type": "code",
   "execution_count": 1,
   "metadata": {},
   "outputs": [],
   "source": [
    "# d = {1,4,2,3,5} -->it represet set\n",
    "# s = {\"name\":'abdul','rollno':123} -->it is a dict"
   ]
  },
  {
   "cell_type": "code",
   "execution_count": 1,
   "metadata": {},
   "outputs": [
    {
     "name": "stdout",
     "output_type": "stream",
     "text": [
      "{'name': 'abdul shaik', 'rollno': 456, 'branch': 'EEE'}\n"
     ]
    }
   ],
   "source": [
    "stu_data = {\"name\":\"abdul shaik\",\"rollno\":456,\"branch\":\"EEE\"}\n",
    "print(stu_data)"
   ]
  },
  {
   "cell_type": "code",
   "execution_count": 2,
   "metadata": {},
   "outputs": [
    {
     "data": {
      "text/plain": [
       "'abdul shaik'"
      ]
     },
     "execution_count": 2,
     "metadata": {},
     "output_type": "execute_result"
    }
   ],
   "source": [
    "stu_data['name']"
   ]
  },
  {
   "cell_type": "code",
   "execution_count": 3,
   "metadata": {},
   "outputs": [
    {
     "name": "stdout",
     "output_type": "stream",
     "text": [
      "{'names': ['abdul', 'raja', 'siva', 'sunil'], 'empid': [123, 234, 345, 567]}\n"
     ]
    }
   ],
   "source": [
    "empinfo  = {\"names\":['abdul','raja','siva','sunil'],\"empid\":[123,234,345,567]}\n",
    "print(empinfo)"
   ]
  },
  {
   "cell_type": "code",
   "execution_count": 4,
   "metadata": {},
   "outputs": [
    {
     "data": {
      "text/plain": [
       "['abdul', 'raja', 'siva', 'sunil']"
      ]
     },
     "execution_count": 4,
     "metadata": {},
     "output_type": "execute_result"
    }
   ],
   "source": [
    "empinfo['names']"
   ]
  },
  {
   "cell_type": "code",
   "execution_count": 5,
   "metadata": {},
   "outputs": [
    {
     "data": {
      "text/plain": [
       "'abdul'"
      ]
     },
     "execution_count": 5,
     "metadata": {},
     "output_type": "execute_result"
    }
   ],
   "source": [
    "empinfo['names'][0]"
   ]
  },
  {
   "cell_type": "code",
   "execution_count": 6,
   "metadata": {},
   "outputs": [
    {
     "data": {
      "text/plain": [
       "'abdul shaik'"
      ]
     },
     "execution_count": 6,
     "metadata": {},
     "output_type": "execute_result"
    }
   ],
   "source": [
    "stu_data['name']"
   ]
  },
  {
   "cell_type": "code",
   "execution_count": 7,
   "metadata": {},
   "outputs": [],
   "source": [
    "stu_data['name'] = \"raja shaik\""
   ]
  },
  {
   "cell_type": "code",
   "execution_count": 8,
   "metadata": {},
   "outputs": [
    {
     "data": {
      "text/plain": [
       "{'name': 'raja shaik', 'rollno': 456, 'branch': 'EEE'}"
      ]
     },
     "execution_count": 8,
     "metadata": {},
     "output_type": "execute_result"
    }
   ],
   "source": [
    "stu_data"
   ]
  },
  {
   "cell_type": "code",
   "execution_count": 9,
   "metadata": {},
   "outputs": [],
   "source": [
    "stu_data['age'] = 24"
   ]
  },
  {
   "cell_type": "code",
   "execution_count": 10,
   "metadata": {},
   "outputs": [
    {
     "data": {
      "text/plain": [
       "{'name': 'raja shaik', 'rollno': 456, 'branch': 'EEE', 'age': 24}"
      ]
     },
     "execution_count": 10,
     "metadata": {},
     "output_type": "execute_result"
    }
   ],
   "source": [
    "stu_data"
   ]
  },
  {
   "cell_type": "code",
   "execution_count": 11,
   "metadata": {},
   "outputs": [
    {
     "data": {
      "text/plain": [
       "['__class__',\n",
       " '__contains__',\n",
       " '__delattr__',\n",
       " '__delitem__',\n",
       " '__dir__',\n",
       " '__doc__',\n",
       " '__eq__',\n",
       " '__format__',\n",
       " '__ge__',\n",
       " '__getattribute__',\n",
       " '__getitem__',\n",
       " '__gt__',\n",
       " '__hash__',\n",
       " '__init__',\n",
       " '__init_subclass__',\n",
       " '__iter__',\n",
       " '__le__',\n",
       " '__len__',\n",
       " '__lt__',\n",
       " '__ne__',\n",
       " '__new__',\n",
       " '__reduce__',\n",
       " '__reduce_ex__',\n",
       " '__repr__',\n",
       " '__setattr__',\n",
       " '__setitem__',\n",
       " '__sizeof__',\n",
       " '__str__',\n",
       " '__subclasshook__',\n",
       " 'clear',\n",
       " 'copy',\n",
       " 'fromkeys',\n",
       " 'get',\n",
       " 'items',\n",
       " 'keys',\n",
       " 'pop',\n",
       " 'popitem',\n",
       " 'setdefault',\n",
       " 'update',\n",
       " 'values']"
      ]
     },
     "execution_count": 11,
     "metadata": {},
     "output_type": "execute_result"
    }
   ],
   "source": [
    "dir(stu_data)"
   ]
  },
  {
   "cell_type": "code",
   "execution_count": 12,
   "metadata": {},
   "outputs": [
    {
     "data": {
      "text/plain": [
       "dict_keys(['name', 'rollno', 'branch', 'age'])"
      ]
     },
     "execution_count": 12,
     "metadata": {},
     "output_type": "execute_result"
    }
   ],
   "source": [
    "stu_data.keys()"
   ]
  },
  {
   "cell_type": "code",
   "execution_count": 13,
   "metadata": {},
   "outputs": [
    {
     "data": {
      "text/plain": [
       "dict_values(['raja shaik', 456, 'EEE', 24])"
      ]
     },
     "execution_count": 13,
     "metadata": {},
     "output_type": "execute_result"
    }
   ],
   "source": [
    "stu_data.values()"
   ]
  },
  {
   "cell_type": "code",
   "execution_count": 14,
   "metadata": {},
   "outputs": [
    {
     "data": {
      "text/plain": [
       "dict_items([('name', 'raja shaik'), ('rollno', 456), ('branch', 'EEE'), ('age', 24)])"
      ]
     },
     "execution_count": 14,
     "metadata": {},
     "output_type": "execute_result"
    }
   ],
   "source": [
    "stu_data.items()"
   ]
  },
  {
   "cell_type": "code",
   "execution_count": 16,
   "metadata": {},
   "outputs": [
    {
     "data": {
      "text/plain": [
       "24"
      ]
     },
     "execution_count": 16,
     "metadata": {},
     "output_type": "execute_result"
    }
   ],
   "source": [
    "stu_data.pop('age')"
   ]
  },
  {
   "cell_type": "code",
   "execution_count": 17,
   "metadata": {},
   "outputs": [
    {
     "data": {
      "text/plain": [
       "{'name': 'raja shaik', 'rollno': 456, 'branch': 'EEE'}"
      ]
     },
     "execution_count": 17,
     "metadata": {},
     "output_type": "execute_result"
    }
   ],
   "source": [
    "stu_data"
   ]
  },
  {
   "cell_type": "code",
   "execution_count": 18,
   "metadata": {},
   "outputs": [
    {
     "data": {
      "text/plain": [
       "('branch', 'EEE')"
      ]
     },
     "execution_count": 18,
     "metadata": {},
     "output_type": "execute_result"
    }
   ],
   "source": [
    "stu_data.popitem()"
   ]
  },
  {
   "cell_type": "code",
   "execution_count": 19,
   "metadata": {},
   "outputs": [
    {
     "data": {
      "text/plain": [
       "24"
      ]
     },
     "execution_count": 19,
     "metadata": {},
     "output_type": "execute_result"
    }
   ],
   "source": [
    "stu_data.setdefault('age',24)"
   ]
  },
  {
   "cell_type": "code",
   "execution_count": 20,
   "metadata": {},
   "outputs": [
    {
     "data": {
      "text/plain": [
       "{'name': 'raja shaik', 'rollno': 456, 'age': 24}"
      ]
     },
     "execution_count": 20,
     "metadata": {},
     "output_type": "execute_result"
    }
   ],
   "source": [
    "stu_data"
   ]
  },
  {
   "cell_type": "code",
   "execution_count": 21,
   "metadata": {},
   "outputs": [
    {
     "data": {
      "text/plain": [
       "456"
      ]
     },
     "execution_count": 21,
     "metadata": {},
     "output_type": "execute_result"
    }
   ],
   "source": [
    "stu_data.setdefault('rollno',243)"
   ]
  },
  {
   "cell_type": "code",
   "execution_count": 22,
   "metadata": {},
   "outputs": [
    {
     "data": {
      "text/plain": [
       "{'name': 'raja shaik', 'rollno': 456, 'age': 24}"
      ]
     },
     "execution_count": 22,
     "metadata": {},
     "output_type": "execute_result"
    }
   ],
   "source": [
    "stu_data"
   ]
  },
  {
   "cell_type": "code",
   "execution_count": 23,
   "metadata": {},
   "outputs": [],
   "source": [
    "marks={}.fromkeys(['C','CPP','Java',\"Python\"],0)\n"
   ]
  },
  {
   "cell_type": "code",
   "execution_count": 24,
   "metadata": {},
   "outputs": [
    {
     "data": {
      "text/plain": [
       "{'C': 0, 'CPP': 0, 'Java': 0, 'Python': 0}"
      ]
     },
     "execution_count": 24,
     "metadata": {},
     "output_type": "execute_result"
    }
   ],
   "source": [
    "marks"
   ]
  },
  {
   "cell_type": "code",
   "execution_count": 25,
   "metadata": {},
   "outputs": [],
   "source": [
    "marks['C']=85"
   ]
  },
  {
   "cell_type": "code",
   "execution_count": 26,
   "metadata": {},
   "outputs": [
    {
     "data": {
      "text/plain": [
       "{'C': 85, 'CPP': 0, 'Java': 0, 'Python': 0}"
      ]
     },
     "execution_count": 26,
     "metadata": {},
     "output_type": "execute_result"
    }
   ],
   "source": [
    "marks"
   ]
  },
  {
   "cell_type": "code",
   "execution_count": 27,
   "metadata": {},
   "outputs": [],
   "source": [
    "empinfo.clear()"
   ]
  },
  {
   "cell_type": "code",
   "execution_count": 28,
   "metadata": {},
   "outputs": [
    {
     "data": {
      "text/plain": [
       "{}"
      ]
     },
     "execution_count": 28,
     "metadata": {},
     "output_type": "execute_result"
    }
   ],
   "source": [
    "empinfo"
   ]
  },
  {
   "cell_type": "code",
   "execution_count": 29,
   "metadata": {},
   "outputs": [],
   "source": [
    "del marks['CPP']"
   ]
  },
  {
   "cell_type": "code",
   "execution_count": 30,
   "metadata": {},
   "outputs": [
    {
     "data": {
      "text/plain": [
       "{'C': 85, 'Java': 0, 'Python': 0}"
      ]
     },
     "execution_count": 30,
     "metadata": {},
     "output_type": "execute_result"
    }
   ],
   "source": [
    "marks"
   ]
  },
  {
   "cell_type": "code",
   "execution_count": 31,
   "metadata": {},
   "outputs": [],
   "source": [
    "del marks"
   ]
  },
  {
   "cell_type": "code",
   "execution_count": 32,
   "metadata": {},
   "outputs": [
    {
     "ename": "NameError",
     "evalue": "name 'marks' is not defined",
     "output_type": "error",
     "traceback": [
      "\u001b[1;31m---------------------------------------------------------------------------\u001b[0m",
      "\u001b[1;31mNameError\u001b[0m                                 Traceback (most recent call last)",
      "\u001b[1;32m<ipython-input-32-7942852603bd>\u001b[0m in \u001b[0;36m<module>\u001b[1;34m\u001b[0m\n\u001b[1;32m----> 1\u001b[1;33m \u001b[0mmarks\u001b[0m\u001b[1;33m\u001b[0m\u001b[1;33m\u001b[0m\u001b[0m\n\u001b[0m",
      "\u001b[1;31mNameError\u001b[0m: name 'marks' is not defined"
     ]
    }
   ],
   "source": [
    "marks"
   ]
  },
  {
   "cell_type": "code",
   "execution_count": 33,
   "metadata": {},
   "outputs": [
    {
     "data": {
      "text/plain": [
       "{'name': 'raja shaik', 'rollno': 456, 'age': 24}"
      ]
     },
     "execution_count": 33,
     "metadata": {},
     "output_type": "execute_result"
    }
   ],
   "source": [
    "stu_data"
   ]
  },
  {
   "cell_type": "code",
   "execution_count": 34,
   "metadata": {},
   "outputs": [
    {
     "data": {
      "text/plain": [
       "3"
      ]
     },
     "execution_count": 34,
     "metadata": {},
     "output_type": "execute_result"
    }
   ],
   "source": [
    "len(stu_data)"
   ]
  },
  {
   "cell_type": "code",
   "execution_count": 36,
   "metadata": {},
   "outputs": [
    {
     "name": "stdout",
     "output_type": "stream",
     "text": [
      "('name', 'raja shaik')\n",
      "('rollno', 456)\n",
      "('age', 24)\n"
     ]
    }
   ],
   "source": [
    "for data in stu_data.items():\n",
    "    print(data)\n",
    "    "
   ]
  },
  {
   "cell_type": "markdown",
   "metadata": {},
   "source": [
    "##### task1\n",
    "    - input: abdul abdulla sunil anil siva\n",
    "    - output: abdul abdulla anil\n",
    "#### task2\n",
    "    - input: abdul abdulla sunil anil  siva\n",
    "    - output: abdul sunil anil\n",
    "#### task3\n",
    "    - input: 123hello\n",
    "    - output:sum= 6\n",
    "#### task4\n",
    "    - input: abdul 55 raja 65 siva 80\n",
    "    - output: sum=200\n",
    "#### task5\n",
    "    - input: hi i am abdulla from kdapa i am working in APSSDC\n",
    "    - output:['hi','i','am','abdulla','from','kadapa','working','in','APSSSDC']\n",
    "#### task6\n",
    "    - input: abdul 55 raja 65 siva 80\n",
    "    - output: {'abdul':55,'raja':65,'siva':80}\n"
   ]
  },
  {
   "cell_type": "markdown",
   "metadata": {},
   "source": [
    "### Regular Expressions\n",
    "- "
   ]
  },
  {
   "cell_type": "code",
   "execution_count": 43,
   "metadata": {},
   "outputs": [],
   "source": [
    "import re"
   ]
  },
  {
   "cell_type": "code",
   "execution_count": 39,
   "metadata": {},
   "outputs": [
    {
     "data": {
      "text/plain": [
       "<re.Match object; span=(0, 1), match='a'>"
      ]
     },
     "execution_count": 39,
     "metadata": {},
     "output_type": "execute_result"
    }
   ],
   "source": [
    "re.match('a','abdulla')"
   ]
  },
  {
   "cell_type": "code",
   "execution_count": 40,
   "metadata": {},
   "outputs": [],
   "source": [
    "re.match('a','badulla')"
   ]
  },
  {
   "cell_type": "code",
   "execution_count": 41,
   "metadata": {},
   "outputs": [
    {
     "data": {
      "text/plain": [
       "<re.Match object; span=(1, 2), match='a'>"
      ]
     },
     "execution_count": 41,
     "metadata": {},
     "output_type": "execute_result"
    }
   ],
   "source": [
    "re.search('a','rajendra')"
   ]
  },
  {
   "cell_type": "code",
   "execution_count": 42,
   "metadata": {},
   "outputs": [
    {
     "data": {
      "text/plain": [
       "['a', 'a']"
      ]
     },
     "execution_count": 42,
     "metadata": {},
     "output_type": "execute_result"
    }
   ],
   "source": [
    "re.findall('a','rajendra')"
   ]
  },
  {
   "cell_type": "code",
   "execution_count": 62,
   "metadata": {},
   "outputs": [
    {
     "name": "stdout",
     "output_type": "stream",
     "text": [
      "Valid\n"
     ]
    }
   ],
   "source": [
    "name = \"apssdc\"\n",
    "if re.search('^[a-z][a-z]+[a-z]$',name):\n",
    "    print(\"Valid\")\n",
    "else:\n",
    "    print(\"Not Valid\")\n",
    "    \n",
    "    \n",
    "    "
   ]
  },
  {
   "cell_type": "code",
   "execution_count": 70,
   "metadata": {},
   "outputs": [
    {
     "name": "stdout",
     "output_type": "stream",
     "text": [
      "Valid\n"
     ]
    }
   ],
   "source": [
    "name = \"apssdc workshop\"\n",
    "if re.search('^[a-z][a-z\\s]+[a-z]$',name):\n",
    "    print(\"Valid\")\n",
    "else:\n",
    "    print(\"Not Valid\")"
   ]
  },
  {
   "cell_type": "code",
   "execution_count": 71,
   "metadata": {},
   "outputs": [
    {
     "name": "stdout",
     "output_type": "stream",
     "text": [
      "Not Valid\n"
     ]
    }
   ],
   "source": [
    "name = \"apssdc workshop\"\n",
    "if re.search('^[a-z][a-z\\S]+[a-z]$',name):\n",
    "    print(\"Valid\")\n",
    "else:\n",
    "    print(\"Not Valid\")"
   ]
  },
  {
   "cell_type": "code",
   "execution_count": 77,
   "metadata": {},
   "outputs": [
    {
     "name": "stdout",
     "output_type": "stream",
     "text": [
      "Enter a name:sk abdul\n",
      "Valid\n"
     ]
    }
   ],
   "source": [
    "name = input(\"Enter a name:\")\n",
    "if re.search('^[a-z\\s]+$',name):\n",
    "    print(\"Valid\")\n",
    "else:\n",
    "    print(\"Not Valid\")"
   ]
  },
  {
   "cell_type": "code",
   "execution_count": 84,
   "metadata": {},
   "outputs": [
    {
     "name": "stdout",
     "output_type": "stream",
     "text": [
      "Enter a name:28758756785678574582471584\n",
      "Valid\n"
     ]
    }
   ],
   "source": [
    "name = input(\"Enter a name:\")\n",
    "if re.search('^[0-9]+$',name):\n",
    "    print(\"Valid\")\n",
    "else:\n",
    "    print(\"Not Valid\")"
   ]
  },
  {
   "cell_type": "code",
   "execution_count": 87,
   "metadata": {},
   "outputs": [
    {
     "name": "stdout",
     "output_type": "stream",
     "text": [
      "Enter a mobile number:1234569870\n",
      "False\n"
     ]
    }
   ],
   "source": [
    "# mobile  number validation\n",
    "# rules:\n",
    "#1.numnber strts from 5 to 9\n",
    "# 2.length should be 10\n",
    "\n",
    "mnumber = input(\"Enter a mobile number:\")\n",
    "if re.search('^[5-9][0-9]{9}$',mnumber):\n",
    "    print(\"True\")\n",
    "else:\n",
    "    print(\"False\")"
   ]
  },
  {
   "cell_type": "code",
   "execution_count": 89,
   "metadata": {},
   "outputs": [
    {
     "name": "stdout",
     "output_type": "stream",
     "text": [
      "abdul abdulla sunil anil siva\n",
      "abdul\n",
      "abdulla\n",
      "anil\n"
     ]
    }
   ],
   "source": [
    "import re\n",
    "# #task1\n",
    "# - input: abdul abdulla sunil anil siva\n",
    "# - output: abdul abdulla anil\n",
    "inp  = input()\n",
    "# read input\n",
    "# split it as words\n",
    "names = inp.split()\n",
    "# check eac and every word ,if it is starts with 'a' print that words\n",
    "for name in names:\n",
    "    if re.search('^a',name):\n",
    "        print(name)\n",
    "# otherwise skip it\n",
    "\n",
    "\n"
   ]
  },
  {
   "cell_type": "code",
   "execution_count": 90,
   "metadata": {},
   "outputs": [
    {
     "name": "stdout",
     "output_type": "stream",
     "text": [
      "abdul abdulla sunil anil siva\n",
      "abdul\n",
      "sunil\n",
      "anil\n"
     ]
    }
   ],
   "source": [
    "import re\n",
    "# #task1\n",
    "# - input: abdul abdulla sunil anil siva\n",
    "# - output: abdul abdulla anil\n",
    "inp  = input()\n",
    "# read input\n",
    "# split it as words\n",
    "names = inp.split()\n",
    "# check eac and every word ,if it is starts with 'a' print that words\n",
    "for name in names:\n",
    "    if re.search('l$',name):\n",
    "        print(name)\n",
    "# otherwise skip it\n"
   ]
  },
  {
   "cell_type": "markdown",
   "metadata": {},
   "source": [
    "#### task1\n",
    "##### Contact Application\n",
    "- read name,mobile number user\n",
    "- if that name and mobile number is valid\n",
    "-  then you just store inside contactInfo Dictionary\n"
   ]
  },
  {
   "cell_type": "code",
   "execution_count": 2,
   "metadata": {},
   "outputs": [],
   "source": [
    "contactInfo = {}"
   ]
  },
  {
   "cell_type": "code",
   "execution_count": 5,
   "metadata": {},
   "outputs": [
    {
     "name": "stdout",
     "output_type": "stream",
     "text": [
      "Enter a name:abdul\n",
      "Enter a Mobile number:7845120369\n"
     ]
    }
   ],
   "source": [
    "import re\n",
    "def isValidName(name):\n",
    "    if re.search('^[a-zA-Z\\s]+$',name):\n",
    "        return True\n",
    "    return False\n",
    "def isValidNumber(mobileNo):\n",
    "    if re.search('^[6-9][0-9]{9}$',mobileNo):\n",
    "        return True\n",
    "    return False\n",
    "name = input(\"Enter a name:\")\n",
    "moblieNo = input(\"Enter a Mobile number:\")\n",
    "if isValidName(name) and isValidNumber(moblieNo):\n",
    "    contactInfo[name]=moblieNo\n",
    "else:\n",
    "    print(\"Entered name and mobile numbers are invalid\")"
   ]
  },
  {
   "cell_type": "code",
   "execution_count": 6,
   "metadata": {},
   "outputs": [
    {
     "data": {
      "text/plain": [
       "{'siva': '8956123047', 'abdul': '7845120369'}"
      ]
     },
     "execution_count": 6,
     "metadata": {},
     "output_type": "execute_result"
    }
   ],
   "source": [
    "contactInfo"
   ]
  },
  {
   "cell_type": "markdown",
   "metadata": {},
   "source": [
    "### Day 5"
   ]
  },
  {
   "cell_type": "code",
   "execution_count": 8,
   "metadata": {},
   "outputs": [
    {
     "name": "stdout",
     "output_type": "stream",
     "text": [
      "siva 8956123047\n",
      "abdul 7845120369\n"
     ]
    }
   ],
   "source": [
    "def allContacts():\n",
    "    for name,mbno in contactInfo.items():\n",
    "        print(name,mbno)\n",
    "allContacts()"
   ]
  },
  {
   "cell_type": "code",
   "execution_count": 9,
   "metadata": {},
   "outputs": [
    {
     "name": "stdout",
     "output_type": "stream",
     "text": [
      "Enter a name:abdul\n",
      "7845120369\n"
     ]
    }
   ],
   "source": [
    "name = input(\"Enter a name:\")\n",
    "def searchContact(name):\n",
    "    print(contactInfo[name])\n",
    "searchContact(name)"
   ]
  },
  {
   "cell_type": "code",
   "execution_count": 15,
   "metadata": {},
   "outputs": [
    {
     "name": "stdout",
     "output_type": "stream",
     "text": [
      "['55', '45', '65', '100', '55']\n"
     ]
    }
   ],
   "source": [
    "import re\n",
    "txt = '''\n",
    "abdul ur scores is 55 45\n",
    "65\n",
    "100\n",
    "fhj55fhgkj\n",
    "'''\n"
   ]
  },
  {
   "cell_type": "code",
   "execution_count": 20,
   "metadata": {},
   "outputs": [
    {
     "name": "stdout",
     "output_type": "stream",
     "text": [
      "['55', '45', '65', '100', '55']\n"
     ]
    }
   ],
   "source": [
    "num = re.findall('[0-9]+',txt)\n",
    "print(num)"
   ]
  },
  {
   "cell_type": "code",
   "execution_count": 21,
   "metadata": {},
   "outputs": [
    {
     "name": "stdout",
     "output_type": "stream",
     "text": [
      "5\n"
     ]
    }
   ],
   "source": [
    "print(len(num))"
   ]
  },
  {
   "cell_type": "code",
   "execution_count": 22,
   "metadata": {},
   "outputs": [
    {
     "name": "stdout",
     "output_type": "stream",
     "text": [
      "320\n"
     ]
    }
   ],
   "source": [
    "sm = 0\n",
    "for i in num:\n",
    "    sm+=int(i)\n",
    "print(sm)"
   ]
  },
  {
   "cell_type": "code",
   "execution_count": 24,
   "metadata": {},
   "outputs": [
    {
     "name": "stdout",
     "output_type": "stream",
     "text": [
      "5\n",
      "2\n",
      "2\n",
      "3\n",
      "6\n",
      "4\n",
      "24\n",
      "5\n",
      "120\n",
      "6\n",
      "720\n"
     ]
    }
   ],
   "source": [
    "#  2\n",
    "#  5\n",
    "#  4\n",
    "# 120\n",
    "# 24\n",
    "n = int(input())\n",
    "\n",
    "for i in range(n):\n",
    "    fact  = 1\n",
    "    val  = int(input())\n",
    "    for j in range(1,val+1):\n",
    "        fact *= j\n",
    "    print(fact)"
   ]
  },
  {
   "cell_type": "code",
   "execution_count": 31,
   "metadata": {},
   "outputs": [
    {
     "name": "stdout",
     "output_type": "stream",
     "text": [
      "5\n",
      "1 2 3 4 5\n",
      "15\n"
     ]
    }
   ],
   "source": [
    "# 5\n",
    "# 1 2 3 4 5\n",
    "# 15\n",
    "n = int(input())\n",
    "nums = input().split()\n",
    "sm = 0\n",
    "if n == len(nums):\n",
    "    for i in nums:\n",
    "        sm+=int(i)\n",
    "print(sm)"
   ]
  },
  {
   "cell_type": "code",
   "execution_count": 36,
   "metadata": {},
   "outputs": [
    {
     "name": "stdout",
     "output_type": "stream",
     "text": [
      "10\n",
      "1 2 3 4 5 6 7 8 9 10\n",
      "10\n",
      "55\n",
      "5.5\n"
     ]
    }
   ],
   "source": [
    "# 5\n",
    "# 1 2 3 4 5\n",
    "# 15\n",
    "n = int(input())\n",
    "nums = list(map(int,input().split()))\n",
    "print(len(nums))\n",
    "print(sum(nums))\n",
    "print(sum(nums)/len(nums))"
   ]
  },
  {
   "cell_type": "code",
   "execution_count": 46,
   "metadata": {},
   "outputs": [
    {
     "name": "stdout",
     "output_type": "stream",
     "text": [
      "10\n",
      "2 2 45 67 87 23 45 67 86 100\n",
      "87\n",
      "23\n"
     ]
    }
   ],
   "source": [
    "# 10\n",
    "# 5 2 45 67 87 23 45 67 86 100\n",
    "# 87\n",
    "# 5\n",
    "n = int(input())\n",
    "s = list(map(int,input().split()))\n",
    "# nums.sort()\n",
    "#print(nums[-2])\n",
    "# for i in range(len(nums)):\n",
    "#     if nums[i]!=nums[i+1]:\n",
    "#         print(nums[i+1])\n",
    "#         break\n",
    "s = list(set(nums))\n",
    "s.sort()\n",
    "print(s[-2])\n",
    "print(s[1])   "
   ]
  },
  {
   "cell_type": "code",
   "execution_count": 42,
   "metadata": {},
   "outputs": [],
   "source": [
    "s = {1,2,3,4}"
   ]
  },
  {
   "cell_type": "code",
   "execution_count": 43,
   "metadata": {},
   "outputs": [
    {
     "ename": "TypeError",
     "evalue": "'set' object is not subscriptable",
     "output_type": "error",
     "traceback": [
      "\u001b[1;31m---------------------------------------------------------------------------\u001b[0m",
      "\u001b[1;31mTypeError\u001b[0m                                 Traceback (most recent call last)",
      "\u001b[1;32m<ipython-input-43-c9c96910e542>\u001b[0m in \u001b[0;36m<module>\u001b[1;34m\u001b[0m\n\u001b[1;32m----> 1\u001b[1;33m \u001b[0ms\u001b[0m\u001b[1;33m[\u001b[0m\u001b[1;36m0\u001b[0m\u001b[1;33m]\u001b[0m\u001b[1;33m\u001b[0m\u001b[1;33m\u001b[0m\u001b[0m\n\u001b[0m",
      "\u001b[1;31mTypeError\u001b[0m: 'set' object is not subscriptable"
     ]
    }
   ],
   "source": [
    "s[0]"
   ]
  },
  {
   "cell_type": "code",
   "execution_count": 52,
   "metadata": {},
   "outputs": [
    {
     "name": "stdout",
     "output_type": "stream",
     "text": [
      "Hai hello welcome Hai Apssdc Apssdc Hai\n",
      "{'Hai': 3, 'hello': 1, 'welcome': 1, 'Apssdc': 2}\n"
     ]
    }
   ],
   "source": [
    "# string = \"Hai hello welcome Hai Apssdc Apssdc Hai\"\n",
    "# Hai --> 3\n",
    "# hello --> 1 \n",
    "# welcome --> 1\n",
    "# Apssdc --> 2s \n",
    "s = input()\n",
    "d = {}\n",
    "for i in s.split():\n",
    "    if d not in():\n",
    "        d[i]=s.count(i)\n",
    "print(d)\n",
    "\n",
    "\n"
   ]
  },
  {
   "cell_type": "markdown",
   "metadata": {},
   "source": [
    "# Files \n",
    "- collect the Data\n",
    "    * txt\n",
    "    * CVS\n",
    "    * HTML\n",
    "    * PDF"
   ]
  },
  {
   "cell_type": "markdown",
   "metadata": {},
   "source": [
    "- need to open file\n",
    "- statement\n",
    "- close\n",
    "* r mode --> read\n",
    "* w mode --> write\n",
    "* a mode --> append"
   ]
  },
  {
   "cell_type": "markdown",
   "metadata": {},
   "source": [
    "- open(\"filename\",\"Mode\")\n",
    "- .......\n",
    "- ......\n",
    " - Statement\n",
    " - close()"
   ]
  },
  {
   "cell_type": "code",
   "execution_count": 55,
   "metadata": {},
   "outputs": [
    {
     "name": "stdout",
     "output_type": "stream",
     "text": [
      "Hai Hello\n",
      "welcome to Apssdc\n"
     ]
    }
   ],
   "source": [
    "f = open('sample.txt')\n",
    "print(f.read())"
   ]
  },
  {
   "cell_type": "code",
   "execution_count": 61,
   "metadata": {},
   "outputs": [
    {
     "data": {
      "text/plain": [
       "['Hai Hello\\n', 'welcome to Apssdc']"
      ]
     },
     "execution_count": 61,
     "metadata": {},
     "output_type": "execute_result"
    }
   ],
   "source": [
    "f = open('sample.txt')\n",
    "print(f.readlines())"
   ]
  },
  {
   "cell_type": "code",
   "execution_count": 63,
   "metadata": {},
   "outputs": [
    {
     "name": "stdout",
     "output_type": "stream",
     "text": [
      "Hai Hello\n",
      "welcome to Apssdc"
     ]
    }
   ],
   "source": [
    "f = open('sample.txt')\n",
    "for i in f:\n",
    "    print(i, end=\"\")"
   ]
  },
  {
   "cell_type": "code",
   "execution_count": 68,
   "metadata": {},
   "outputs": [
    {
     "name": "stdout",
     "output_type": "stream",
     "text": [
      "21\n"
     ]
    }
   ],
   "source": [
    "s = open('nums.txt','r')\n",
    "sums = 0\n",
    "for i in s:\n",
    "    sums += int(i)\n",
    "print(sums)\n",
    "    "
   ]
  },
  {
   "cell_type": "code",
   "execution_count": 73,
   "metadata": {},
   "outputs": [],
   "source": [
    "g= open(\"data.txt\",\"a\")\n",
    "g.write(\"Welcome To APSSDC\")\n",
    "g.close()\n"
   ]
  },
  {
   "cell_type": "code",
   "execution_count": 78,
   "metadata": {},
   "outputs": [
    {
     "name": "stdout",
     "output_type": "stream",
     "text": [
      "Enter Nameshai\n",
      "3\n"
     ]
    }
   ],
   "source": [
    "string = input(\"Enter Names\")\n",
    "g= open(\"data.txt\",\"a\")\n",
    "print(g.write(string))\n",
    "g.close()"
   ]
  },
  {
   "cell_type": "code",
   "execution_count": null,
   "metadata": {},
   "outputs": [],
   "source": [
    "S1    s2    s3   s4\n",
    "33    66    44   77\n",
    "55    55    77   99\n",
    "33    66    44   77\n",
    "55    55    77   99\n",
    "\n"
   ]
  },
  {
   "cell_type": "code",
   "execution_count": 82,
   "metadata": {},
   "outputs": [
    {
     "name": "stdout",
     "output_type": "stream",
     "text": [
      "Enter S1 marks77\n",
      "Enter S2 marks78\n",
      "Enter S3 Marks94\n",
      "Enter S4 Marks80\n",
      "Enter S1 marks33\n",
      "Enter S2 marks55\n",
      "Enter S3 Marks77\n",
      "Enter S4 Marks88\n",
      "Enter S1 marks99\n",
      "Enter S2 marks32\n",
      "Enter S3 Marks44\n",
      "Enter S4 Marks37\n",
      "Enter S1 marks32\n",
      "Enter S2 marks49\n",
      "Enter S3 Marks62\n",
      "Enter S4 Marks49\n",
      "Enter S1 marks33\n",
      "Enter S2 marks44\n",
      "Enter S3 Marks41\n",
      "Enter S4 Marks45\n",
      "Enter S1 marks56\n",
      "Enter S2 marks77\n",
      "Enter S3 Marks89\n",
      "Enter S4 Marks87\n"
     ]
    }
   ],
   "source": [
    "f=open(\"marks.txt\",'w')\n",
    "f.write(\"N1\\tN2\\tN3\\tN4\")\n",
    "for i in range(1,7):\n",
    "    s1 = int(input(\"Enter S1 marks\"))\n",
    "    s2 = int(input(\"Enter S2 marks\"))\n",
    "    s3 = int(input(\"Enter S3 Marks\"))\n",
    "    s4 = int(input(\"Enter S4 Marks\"))\n",
    "    f.write(\"\\n\"+str(s1)+\"\\t\"+str(s2)+\"\\t\"+str(s3)+'\\t'+str(s4))\n",
    "\n",
    "f.close()"
   ]
  },
  {
   "cell_type": "code",
   "execution_count": 91,
   "metadata": {},
   "outputs": [
    {
     "name": "stdout",
     "output_type": "stream",
     "text": [
      "{'d', 'j', 'u', 'i', 'f', 'e', 't', 'n', 'h', 'y', 'v', 's', 'a'} --> 3\n"
     ]
    }
   ],
   "source": [
    "s=\"aadafjjhsdfuysnhvneuiyty\"\n",
    "c=set(s)\n",
    "m = \"\"\n",
    "for i in s:\n",
    "    m = s.count(i)\n"
   ]
  },
  {
   "cell_type": "code",
   "execution_count": null,
   "metadata": {},
   "outputs": [],
   "source": []
  }
 ],
 "metadata": {
  "kernelspec": {
   "display_name": "Python 3",
   "language": "python",
   "name": "python3"
  },
  "language_info": {
   "codemirror_mode": {
    "name": "ipython",
    "version": 3
   },
   "file_extension": ".py",
   "mimetype": "text/x-python",
   "name": "python",
   "nbconvert_exporter": "python",
   "pygments_lexer": "ipython3",
   "version": "3.7.4"
  }
 },
 "nbformat": 4,
 "nbformat_minor": 2
}
